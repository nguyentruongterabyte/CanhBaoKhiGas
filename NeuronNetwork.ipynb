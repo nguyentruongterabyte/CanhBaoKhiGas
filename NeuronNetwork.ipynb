{
  "nbformat": 4,
  "nbformat_minor": 0,
  "metadata": {
    "colab": {
      "provenance": [],
      "gpuType": "T4"
    },
    "kernelspec": {
      "name": "python3",
      "display_name": "Python 3"
    },
    "language_info": {
      "name": "python"
    },
    "accelerator": "GPU"
  },
  "cells": [
    {
      "cell_type": "code",
      "execution_count": null,
      "metadata": {
        "colab": {
          "base_uri": "https://localhost:8080/"
        },
        "id": "ysyeo_L9a28t",
        "outputId": "0368f051-79d7-4590-9c19-da0e3ac8905c"
      },
      "outputs": [
        {
          "output_type": "stream",
          "name": "stdout",
          "text": [
            "Mounted at /content/drive\n"
          ]
        }
      ],
      "source": [
        "from google.colab import drive\n",
        "drive.mount('/content/drive')\n",
        "import tensorflow as tf\n",
        "import pandas as pd\n",
        "import numpy as np\n",
        "from sklearn.model_selection import train_test_split\n",
        "from tensorflow.keras.models import Sequential\n",
        "from tensorflow.keras.layers import Dense"
      ]
    },
    {
      "cell_type": "code",
      "source": [
        "data = pd.read_csv(\"drive/MyDrive/DeepLearning/dataTrainnew.csv\")"
      ],
      "metadata": {
        "id": "MdvOWqf6bDlt"
      },
      "execution_count": null,
      "outputs": []
    },
    {
      "cell_type": "code",
      "source": [
        "X = data.iloc[:, [1, 2]].values\n",
        "y = data.iloc[:, 3].values"
      ],
      "metadata": {
        "id": "f5t-w9PkbIgd"
      },
      "execution_count": null,
      "outputs": []
    },
    {
      "cell_type": "code",
      "source": [
        "from sklearn.preprocessing import LabelEncoder\n",
        "label_encoder = LabelEncoder()\n",
        "y_encoded = label_encoder.fit_transform(y)"
      ],
      "metadata": {
        "id": "eA-0Dyptc4J2"
      },
      "execution_count": null,
      "outputs": []
    },
    {
      "cell_type": "code",
      "source": [
        "X_train, X_test, y_train, y_test = train_test_split(X, y_encoded, test_size=0.2, random_state=42)\n"
      ],
      "metadata": {
        "id": "uTTDNS2ibZUo"
      },
      "execution_count": null,
      "outputs": []
    },
    {
      "cell_type": "code",
      "source": [
        "#y_encoded"
      ],
      "metadata": {
        "id": "hIaFvK6dc2wP"
      },
      "execution_count": null,
      "outputs": []
    },
    {
      "cell_type": "code",
      "source": [
        "len(np.unique(y_encoded))"
      ],
      "metadata": {
        "colab": {
          "base_uri": "https://localhost:8080/"
        },
        "id": "9KpygiJvcVDi",
        "outputId": "43fb83cf-2f37-48f3-89c8-e8eab1009dd1"
      },
      "execution_count": null,
      "outputs": [
        {
          "output_type": "execute_result",
          "data": {
            "text/plain": [
              "4"
            ]
          },
          "metadata": {},
          "execution_count": 8
        }
      ]
    },
    {
      "cell_type": "code",
      "source": [
        "# Xây dựng mô hình mạng neuron\n",
        "model = Sequential([\n",
        "    Dense(64, activation='relu', input_shape=(X_train.shape[1],)),\n",
        "    Dense(32, activation='relu'),\n",
        "    Dense(16, activation='relu'),\n",
        "    Dense(len(np.unique(y_encoded)), activation='softmax')  # Lớp đầu ra với số lượng lớp bằng số loại khí\n",
        "])"
      ],
      "metadata": {
        "id": "qwrsSxcLcP3x"
      },
      "execution_count": null,
      "outputs": []
    },
    {
      "cell_type": "code",
      "source": [
        "model.compile(optimizer='adam', loss='sparse_categorical_crossentropy', metrics=['accuracy'])\n"
      ],
      "metadata": {
        "id": "lc26K7LTcX3c"
      },
      "execution_count": null,
      "outputs": []
    },
    {
      "cell_type": "code",
      "source": [
        "model.fit(X_train, y_train, epochs=100, validation_data=(X_test, y_test))\n"
      ],
      "metadata": {
        "colab": {
          "base_uri": "https://localhost:8080/"
        },
        "id": "wmvmvEP-cZMW",
        "outputId": "64de3182-bbe8-41aa-ba99-740a5123cff3"
      },
      "execution_count": null,
      "outputs": [
        {
          "output_type": "stream",
          "name": "stdout",
          "text": [
            "Epoch 1/100\n",
            "12/12 [==============================] - 3s 35ms/step - loss: 39.9352 - accuracy: 0.4930 - val_loss: 3.1149 - val_accuracy: 0.4111\n",
            "Epoch 2/100\n",
            "12/12 [==============================] - 0s 9ms/step - loss: 6.5202 - accuracy: 0.4706 - val_loss: 5.5526 - val_accuracy: 0.4222\n",
            "Epoch 3/100\n",
            "12/12 [==============================] - 0s 10ms/step - loss: 5.4223 - accuracy: 0.4986 - val_loss: 2.0062 - val_accuracy: 0.7556\n",
            "Epoch 4/100\n",
            "12/12 [==============================] - 0s 9ms/step - loss: 1.8568 - accuracy: 0.5238 - val_loss: 0.8994 - val_accuracy: 0.7222\n",
            "Epoch 5/100\n",
            "12/12 [==============================] - 0s 10ms/step - loss: 0.7853 - accuracy: 0.6779 - val_loss: 0.6908 - val_accuracy: 0.6222\n",
            "Epoch 6/100\n",
            "12/12 [==============================] - 0s 10ms/step - loss: 0.7034 - accuracy: 0.6667 - val_loss: 0.5463 - val_accuracy: 0.6889\n",
            "Epoch 7/100\n",
            "12/12 [==============================] - 0s 11ms/step - loss: 0.6098 - accuracy: 0.6807 - val_loss: 0.8808 - val_accuracy: 0.8222\n",
            "Epoch 8/100\n",
            "12/12 [==============================] - 0s 10ms/step - loss: 0.8159 - accuracy: 0.6807 - val_loss: 0.6563 - val_accuracy: 0.6333\n",
            "Epoch 9/100\n",
            "12/12 [==============================] - 0s 9ms/step - loss: 1.1342 - accuracy: 0.6555 - val_loss: 0.4954 - val_accuracy: 0.7444\n",
            "Epoch 10/100\n",
            "12/12 [==============================] - 0s 10ms/step - loss: 1.8036 - accuracy: 0.6863 - val_loss: 0.8696 - val_accuracy: 0.8222\n",
            "Epoch 11/100\n",
            "12/12 [==============================] - 0s 10ms/step - loss: 1.7144 - accuracy: 0.6022 - val_loss: 0.6203 - val_accuracy: 0.7222\n",
            "Epoch 12/100\n",
            "12/12 [==============================] - 0s 10ms/step - loss: 1.3497 - accuracy: 0.6415 - val_loss: 1.7324 - val_accuracy: 0.7778\n",
            "Epoch 13/100\n",
            "12/12 [==============================] - 0s 10ms/step - loss: 2.0495 - accuracy: 0.6471 - val_loss: 1.9674 - val_accuracy: 0.5778\n",
            "Epoch 14/100\n",
            "12/12 [==============================] - 0s 10ms/step - loss: 1.0356 - accuracy: 0.6723 - val_loss: 0.9472 - val_accuracy: 0.7889\n",
            "Epoch 15/100\n",
            "12/12 [==============================] - 0s 10ms/step - loss: 1.0685 - accuracy: 0.6611 - val_loss: 0.7189 - val_accuracy: 0.6667\n",
            "Epoch 16/100\n",
            "12/12 [==============================] - 0s 10ms/step - loss: 0.6481 - accuracy: 0.7311 - val_loss: 0.6558 - val_accuracy: 0.7222\n",
            "Epoch 17/100\n",
            "12/12 [==============================] - 0s 10ms/step - loss: 1.0413 - accuracy: 0.6555 - val_loss: 2.4352 - val_accuracy: 0.5556\n",
            "Epoch 18/100\n",
            "12/12 [==============================] - 0s 10ms/step - loss: 2.8186 - accuracy: 0.6078 - val_loss: 2.8305 - val_accuracy: 0.5889\n",
            "Epoch 19/100\n",
            "12/12 [==============================] - 0s 12ms/step - loss: 1.1913 - accuracy: 0.6471 - val_loss: 1.5789 - val_accuracy: 0.5556\n",
            "Epoch 20/100\n",
            "12/12 [==============================] - 0s 10ms/step - loss: 1.4867 - accuracy: 0.6611 - val_loss: 1.0971 - val_accuracy: 0.6667\n",
            "Epoch 21/100\n",
            "12/12 [==============================] - 0s 6ms/step - loss: 0.7806 - accuracy: 0.6807 - val_loss: 0.4641 - val_accuracy: 0.8333\n",
            "Epoch 22/100\n",
            "12/12 [==============================] - 0s 6ms/step - loss: 0.8331 - accuracy: 0.7227 - val_loss: 0.9338 - val_accuracy: 0.8000\n",
            "Epoch 23/100\n",
            "12/12 [==============================] - 0s 7ms/step - loss: 1.9849 - accuracy: 0.6078 - val_loss: 0.9016 - val_accuracy: 0.6667\n",
            "Epoch 24/100\n",
            "12/12 [==============================] - 0s 6ms/step - loss: 1.1107 - accuracy: 0.7031 - val_loss: 0.7621 - val_accuracy: 0.6889\n",
            "Epoch 25/100\n",
            "12/12 [==============================] - 0s 6ms/step - loss: 0.5680 - accuracy: 0.7479 - val_loss: 0.9025 - val_accuracy: 0.7556\n",
            "Epoch 26/100\n",
            "12/12 [==============================] - 0s 9ms/step - loss: 1.3285 - accuracy: 0.6863 - val_loss: 0.5065 - val_accuracy: 0.7667\n",
            "Epoch 27/100\n",
            "12/12 [==============================] - 0s 6ms/step - loss: 0.9666 - accuracy: 0.6779 - val_loss: 1.3186 - val_accuracy: 0.6556\n",
            "Epoch 28/100\n",
            "12/12 [==============================] - 0s 6ms/step - loss: 0.8540 - accuracy: 0.7199 - val_loss: 0.4948 - val_accuracy: 0.7667\n",
            "Epoch 29/100\n",
            "12/12 [==============================] - 0s 6ms/step - loss: 0.6299 - accuracy: 0.7423 - val_loss: 1.8742 - val_accuracy: 0.6000\n",
            "Epoch 30/100\n",
            "12/12 [==============================] - 0s 6ms/step - loss: 2.3493 - accuracy: 0.6050 - val_loss: 1.5945 - val_accuracy: 0.6444\n",
            "Epoch 31/100\n",
            "12/12 [==============================] - 0s 6ms/step - loss: 1.4732 - accuracy: 0.6723 - val_loss: 1.7405 - val_accuracy: 0.8111\n",
            "Epoch 32/100\n",
            "12/12 [==============================] - 0s 6ms/step - loss: 2.1411 - accuracy: 0.6471 - val_loss: 2.8003 - val_accuracy: 0.5556\n",
            "Epoch 33/100\n",
            "12/12 [==============================] - 0s 8ms/step - loss: 1.7231 - accuracy: 0.6275 - val_loss: 0.7819 - val_accuracy: 0.7333\n",
            "Epoch 34/100\n",
            "12/12 [==============================] - 0s 7ms/step - loss: 0.8531 - accuracy: 0.7227 - val_loss: 0.7012 - val_accuracy: 0.7000\n",
            "Epoch 35/100\n",
            "12/12 [==============================] - 0s 6ms/step - loss: 0.6264 - accuracy: 0.7339 - val_loss: 0.4311 - val_accuracy: 0.8333\n",
            "Epoch 36/100\n",
            "12/12 [==============================] - 0s 6ms/step - loss: 0.5406 - accuracy: 0.7647 - val_loss: 1.4369 - val_accuracy: 0.6111\n",
            "Epoch 37/100\n",
            "12/12 [==============================] - 0s 7ms/step - loss: 0.9916 - accuracy: 0.6975 - val_loss: 1.0716 - val_accuracy: 0.5333\n",
            "Epoch 38/100\n",
            "12/12 [==============================] - 0s 8ms/step - loss: 1.1847 - accuracy: 0.6947 - val_loss: 2.4240 - val_accuracy: 0.5556\n",
            "Epoch 39/100\n",
            "12/12 [==============================] - 0s 6ms/step - loss: 1.6382 - accuracy: 0.6471 - val_loss: 1.5433 - val_accuracy: 0.6000\n",
            "Epoch 40/100\n",
            "12/12 [==============================] - 0s 6ms/step - loss: 1.9334 - accuracy: 0.6807 - val_loss: 1.6922 - val_accuracy: 0.5778\n",
            "Epoch 41/100\n",
            "12/12 [==============================] - 0s 7ms/step - loss: 0.9805 - accuracy: 0.7115 - val_loss: 0.9600 - val_accuracy: 0.6444\n",
            "Epoch 42/100\n",
            "12/12 [==============================] - 0s 7ms/step - loss: 0.6213 - accuracy: 0.7311 - val_loss: 0.5713 - val_accuracy: 0.8333\n",
            "Epoch 43/100\n",
            "12/12 [==============================] - 0s 7ms/step - loss: 0.7633 - accuracy: 0.6947 - val_loss: 0.9340 - val_accuracy: 0.7000\n",
            "Epoch 44/100\n",
            "12/12 [==============================] - 0s 6ms/step - loss: 0.5788 - accuracy: 0.7423 - val_loss: 0.9342 - val_accuracy: 0.6111\n",
            "Epoch 45/100\n",
            "12/12 [==============================] - 0s 7ms/step - loss: 0.5753 - accuracy: 0.7339 - val_loss: 0.5278 - val_accuracy: 0.7889\n",
            "Epoch 46/100\n",
            "12/12 [==============================] - 0s 6ms/step - loss: 0.9261 - accuracy: 0.7031 - val_loss: 0.6944 - val_accuracy: 0.8222\n",
            "Epoch 47/100\n",
            "12/12 [==============================] - 0s 7ms/step - loss: 0.8478 - accuracy: 0.7283 - val_loss: 0.8336 - val_accuracy: 0.6556\n",
            "Epoch 48/100\n",
            "12/12 [==============================] - 0s 7ms/step - loss: 0.9543 - accuracy: 0.7115 - val_loss: 1.9683 - val_accuracy: 0.4889\n",
            "Epoch 49/100\n",
            "12/12 [==============================] - 0s 6ms/step - loss: 1.1963 - accuracy: 0.7255 - val_loss: 0.8960 - val_accuracy: 0.6778\n",
            "Epoch 50/100\n",
            "12/12 [==============================] - 0s 6ms/step - loss: 0.7774 - accuracy: 0.7395 - val_loss: 0.8499 - val_accuracy: 0.8333\n",
            "Epoch 51/100\n",
            "12/12 [==============================] - 0s 6ms/step - loss: 0.8236 - accuracy: 0.7367 - val_loss: 0.7117 - val_accuracy: 0.8000\n",
            "Epoch 52/100\n",
            "12/12 [==============================] - 0s 7ms/step - loss: 1.1262 - accuracy: 0.6947 - val_loss: 1.6342 - val_accuracy: 0.6111\n",
            "Epoch 53/100\n",
            "12/12 [==============================] - 0s 7ms/step - loss: 0.8707 - accuracy: 0.6947 - val_loss: 0.5835 - val_accuracy: 0.8444\n",
            "Epoch 54/100\n",
            "12/12 [==============================] - 0s 8ms/step - loss: 0.8795 - accuracy: 0.7031 - val_loss: 0.4789 - val_accuracy: 0.7333\n",
            "Epoch 55/100\n",
            "12/12 [==============================] - 0s 6ms/step - loss: 0.5851 - accuracy: 0.7563 - val_loss: 0.8654 - val_accuracy: 0.7000\n",
            "Epoch 56/100\n",
            "12/12 [==============================] - 0s 7ms/step - loss: 0.7739 - accuracy: 0.7479 - val_loss: 0.5201 - val_accuracy: 0.8556\n",
            "Epoch 57/100\n",
            "12/12 [==============================] - 0s 7ms/step - loss: 1.0417 - accuracy: 0.6751 - val_loss: 1.3390 - val_accuracy: 0.8000\n",
            "Epoch 58/100\n",
            "12/12 [==============================] - 0s 11ms/step - loss: 1.4585 - accuracy: 0.6975 - val_loss: 1.9150 - val_accuracy: 0.6667\n",
            "Epoch 59/100\n",
            "12/12 [==============================] - 0s 8ms/step - loss: 0.9115 - accuracy: 0.7115 - val_loss: 1.0300 - val_accuracy: 0.7000\n",
            "Epoch 60/100\n",
            "12/12 [==============================] - 0s 9ms/step - loss: 0.9899 - accuracy: 0.7059 - val_loss: 0.7359 - val_accuracy: 0.7444\n",
            "Epoch 61/100\n",
            "12/12 [==============================] - 0s 9ms/step - loss: 0.8069 - accuracy: 0.7703 - val_loss: 0.7742 - val_accuracy: 0.6556\n",
            "Epoch 62/100\n",
            "12/12 [==============================] - 0s 9ms/step - loss: 0.7762 - accuracy: 0.7479 - val_loss: 0.7188 - val_accuracy: 0.7667\n",
            "Epoch 63/100\n",
            "12/12 [==============================] - 0s 8ms/step - loss: 0.6353 - accuracy: 0.7535 - val_loss: 0.4709 - val_accuracy: 0.8667\n",
            "Epoch 64/100\n",
            "12/12 [==============================] - 0s 8ms/step - loss: 0.4828 - accuracy: 0.7983 - val_loss: 0.8626 - val_accuracy: 0.6222\n",
            "Epoch 65/100\n",
            "12/12 [==============================] - 0s 9ms/step - loss: 0.7079 - accuracy: 0.7591 - val_loss: 1.0062 - val_accuracy: 0.6111\n",
            "Epoch 66/100\n",
            "12/12 [==============================] - 0s 10ms/step - loss: 0.7506 - accuracy: 0.7507 - val_loss: 1.1707 - val_accuracy: 0.6222\n",
            "Epoch 67/100\n",
            "12/12 [==============================] - 0s 7ms/step - loss: 0.6579 - accuracy: 0.7535 - val_loss: 0.8676 - val_accuracy: 0.8111\n",
            "Epoch 68/100\n",
            "12/12 [==============================] - 0s 6ms/step - loss: 0.9859 - accuracy: 0.7059 - val_loss: 0.4931 - val_accuracy: 0.7667\n",
            "Epoch 69/100\n",
            "12/12 [==============================] - 0s 6ms/step - loss: 0.5060 - accuracy: 0.7619 - val_loss: 0.7273 - val_accuracy: 0.7111\n",
            "Epoch 70/100\n",
            "12/12 [==============================] - 0s 7ms/step - loss: 0.7639 - accuracy: 0.7479 - val_loss: 2.6909 - val_accuracy: 0.5444\n",
            "Epoch 71/100\n",
            "12/12 [==============================] - 0s 7ms/step - loss: 1.3979 - accuracy: 0.6779 - val_loss: 0.6942 - val_accuracy: 0.7444\n",
            "Epoch 72/100\n",
            "12/12 [==============================] - 0s 7ms/step - loss: 0.7958 - accuracy: 0.7423 - val_loss: 0.5462 - val_accuracy: 0.8556\n",
            "Epoch 73/100\n",
            "12/12 [==============================] - 0s 6ms/step - loss: 0.6487 - accuracy: 0.7311 - val_loss: 0.7548 - val_accuracy: 0.7222\n",
            "Epoch 74/100\n",
            "12/12 [==============================] - 0s 7ms/step - loss: 0.9766 - accuracy: 0.7031 - val_loss: 1.4275 - val_accuracy: 0.6778\n",
            "Epoch 75/100\n",
            "12/12 [==============================] - 0s 6ms/step - loss: 1.6079 - accuracy: 0.6639 - val_loss: 0.4602 - val_accuracy: 0.8333\n",
            "Epoch 76/100\n",
            "12/12 [==============================] - 0s 6ms/step - loss: 1.0866 - accuracy: 0.7031 - val_loss: 0.5961 - val_accuracy: 0.7111\n",
            "Epoch 77/100\n",
            "12/12 [==============================] - 0s 6ms/step - loss: 0.4787 - accuracy: 0.7591 - val_loss: 0.4716 - val_accuracy: 0.7667\n",
            "Epoch 78/100\n",
            "12/12 [==============================] - 0s 7ms/step - loss: 0.5751 - accuracy: 0.7563 - val_loss: 0.4824 - val_accuracy: 0.8111\n",
            "Epoch 79/100\n",
            "12/12 [==============================] - 0s 6ms/step - loss: 0.6496 - accuracy: 0.7507 - val_loss: 0.7484 - val_accuracy: 0.7222\n",
            "Epoch 80/100\n",
            "12/12 [==============================] - 0s 7ms/step - loss: 0.5771 - accuracy: 0.7563 - val_loss: 0.6187 - val_accuracy: 0.8222\n",
            "Epoch 81/100\n",
            "12/12 [==============================] - 0s 7ms/step - loss: 0.6068 - accuracy: 0.7647 - val_loss: 0.6792 - val_accuracy: 0.6889\n",
            "Epoch 82/100\n",
            "12/12 [==============================] - 0s 7ms/step - loss: 0.6997 - accuracy: 0.7115 - val_loss: 1.1001 - val_accuracy: 0.6778\n",
            "Epoch 83/100\n",
            "12/12 [==============================] - 0s 7ms/step - loss: 1.1994 - accuracy: 0.6751 - val_loss: 0.9175 - val_accuracy: 0.7778\n",
            "Epoch 84/100\n",
            "12/12 [==============================] - 0s 7ms/step - loss: 1.2720 - accuracy: 0.6919 - val_loss: 0.8189 - val_accuracy: 0.7778\n",
            "Epoch 85/100\n",
            "12/12 [==============================] - 0s 6ms/step - loss: 0.5756 - accuracy: 0.7059 - val_loss: 0.5721 - val_accuracy: 0.7667\n",
            "Epoch 86/100\n",
            "12/12 [==============================] - 0s 7ms/step - loss: 0.8066 - accuracy: 0.7451 - val_loss: 3.2084 - val_accuracy: 0.6222\n",
            "Epoch 87/100\n",
            "12/12 [==============================] - 0s 6ms/step - loss: 4.5213 - accuracy: 0.6246 - val_loss: 2.0283 - val_accuracy: 0.5556\n",
            "Epoch 88/100\n",
            "12/12 [==============================] - 0s 7ms/step - loss: 1.6265 - accuracy: 0.7087 - val_loss: 1.2892 - val_accuracy: 0.6000\n",
            "Epoch 89/100\n",
            "12/12 [==============================] - 0s 6ms/step - loss: 1.3366 - accuracy: 0.6639 - val_loss: 1.3354 - val_accuracy: 0.7889\n",
            "Epoch 90/100\n",
            "12/12 [==============================] - 0s 6ms/step - loss: 1.3493 - accuracy: 0.6863 - val_loss: 1.9002 - val_accuracy: 0.6222\n",
            "Epoch 91/100\n",
            "12/12 [==============================] - 0s 7ms/step - loss: 1.4396 - accuracy: 0.6639 - val_loss: 1.7095 - val_accuracy: 0.8000\n",
            "Epoch 92/100\n",
            "12/12 [==============================] - 0s 7ms/step - loss: 1.9004 - accuracy: 0.6639 - val_loss: 0.4791 - val_accuracy: 0.8667\n",
            "Epoch 93/100\n",
            "12/12 [==============================] - 0s 7ms/step - loss: 0.8425 - accuracy: 0.7395 - val_loss: 0.5728 - val_accuracy: 0.7667\n",
            "Epoch 94/100\n",
            "12/12 [==============================] - 0s 7ms/step - loss: 0.9096 - accuracy: 0.7283 - val_loss: 0.8168 - val_accuracy: 0.8111\n",
            "Epoch 95/100\n",
            "12/12 [==============================] - 0s 8ms/step - loss: 1.7223 - accuracy: 0.7115 - val_loss: 1.2327 - val_accuracy: 0.6556\n",
            "Epoch 96/100\n",
            "12/12 [==============================] - 0s 6ms/step - loss: 1.4217 - accuracy: 0.6779 - val_loss: 0.7143 - val_accuracy: 0.8111\n",
            "Epoch 97/100\n",
            "12/12 [==============================] - 0s 6ms/step - loss: 0.6095 - accuracy: 0.7507 - val_loss: 0.5389 - val_accuracy: 0.7444\n",
            "Epoch 98/100\n",
            "12/12 [==============================] - 0s 7ms/step - loss: 0.6123 - accuracy: 0.7731 - val_loss: 0.5601 - val_accuracy: 0.7111\n",
            "Epoch 99/100\n",
            "12/12 [==============================] - 0s 7ms/step - loss: 0.5186 - accuracy: 0.7955 - val_loss: 0.7751 - val_accuracy: 0.6333\n",
            "Epoch 100/100\n",
            "12/12 [==============================] - 0s 7ms/step - loss: 0.5976 - accuracy: 0.7647 - val_loss: 0.7958 - val_accuracy: 0.8333\n"
          ]
        },
        {
          "output_type": "execute_result",
          "data": {
            "text/plain": [
              "<keras.src.callbacks.History at 0x7b0b440a1390>"
            ]
          },
          "metadata": {},
          "execution_count": 11
        }
      ]
    },
    {
      "cell_type": "code",
      "source": [
        "test_loss, test_accuracy = model.evaluate(X_test, y_test)\n",
        "\n",
        "print(f\"Test Loss: {test_loss}\")\n",
        "print(f\"Test Accuracy: {test_accuracy}\")"
      ],
      "metadata": {
        "colab": {
          "base_uri": "https://localhost:8080/"
        },
        "id": "4LsM1eBHehXX",
        "outputId": "38b79e3b-148b-46a1-f404-34c89c607034"
      },
      "execution_count": null,
      "outputs": [
        {
          "output_type": "stream",
          "name": "stdout",
          "text": [
            "3/3 [==============================] - 0s 5ms/step - loss: 0.7958 - accuracy: 0.8333\n",
            "Test Loss: 0.7957850694656372\n",
            "Test Accuracy: 0.8333333134651184\n"
          ]
        }
      ]
    },
    {
      "cell_type": "code",
      "source": [
        "np.unique(y_encoded)"
      ],
      "metadata": {
        "colab": {
          "base_uri": "https://localhost:8080/"
        },
        "id": "Dx33zO_bdXni",
        "outputId": "91b45dc5-961e-45e2-85a3-e8b59b38ba4a"
      },
      "execution_count": null,
      "outputs": [
        {
          "output_type": "execute_result",
          "data": {
            "text/plain": [
              "array([0, 1, 2, 3])"
            ]
          },
          "metadata": {},
          "execution_count": 21
        }
      ]
    },
    {
      "cell_type": "code",
      "source": [
        "np.unique(y)"
      ],
      "metadata": {
        "colab": {
          "base_uri": "https://localhost:8080/"
        },
        "id": "slwTf13hfUUU",
        "outputId": "048564da-099d-4307-db64-9c70f4d293e1"
      },
      "execution_count": null,
      "outputs": [
        {
          "output_type": "execute_result",
          "data": {
            "text/plain": [
              "array(['Dangerous', 'No Dangerous', 'Slightly dangerous',\n",
              "       'Very dangerous'], dtype=object)"
            ]
          },
          "metadata": {},
          "execution_count": 13
        }
      ]
    },
    {
      "cell_type": "code",
      "source": [
        "#X_test"
      ],
      "metadata": {
        "id": "EBe9PEPUfYRv"
      },
      "execution_count": null,
      "outputs": []
    },
    {
      "cell_type": "code",
      "source": [
        "predictions = model.predict(X_test)\n",
        "predicted_labels = [np.argmax(prediction) for prediction in predictions]\n",
        "# Tên của các lớp\n",
        "class_names = ['Dangerous', 'No Dangerous', 'Slightly dangerous', 'Very dangerous']\n",
        "\n",
        "# In ra nhãn dự đoán và nhãn thực tế dưới dạng tên lớp\n",
        "for i in range(len(X_test)):\n",
        "    predicted_label = class_names[predicted_labels[i]]\n",
        "    actual_label = class_names[y_test[i]]\n",
        "    print(f\"Predicted Label: {predicted_label}, Actual Label: {actual_label}\")\n"
      ],
      "metadata": {
        "id": "7GZyJpS5exQo"
      },
      "execution_count": null,
      "outputs": []
    },
    {
      "cell_type": "code",
      "source": [
        "# Lưu mô hình vào tệp\n",
        "model.save('gas_detection_model.h5')\n",
        "\n",
        "# Chuyển đổi mô hình sang định dạng TensorFlow Lite\n",
        "converter = tf.lite.TFLiteConverter.from_keras_model(model)\n",
        "tflite_model = converter.convert()\n",
        "\n",
        "# Lưu mô hình TensorFlow Lite vào file\n",
        "with open('gas_detection_model.tflite', 'wb') as f:\n",
        "    f.write(tflite_model)"
      ],
      "metadata": {
        "colab": {
          "base_uri": "https://localhost:8080/"
        },
        "id": "oy1uKoATdtGb",
        "outputId": "2ffc18bf-68ba-470c-de64-9e63c790f743"
      },
      "execution_count": null,
      "outputs": [
        {
          "output_type": "stream",
          "name": "stderr",
          "text": [
            "/usr/local/lib/python3.10/dist-packages/keras/src/engine/training.py:3103: UserWarning: You are saving your model as an HDF5 file via `model.save()`. This file format is considered legacy. We recommend using instead the native Keras format, e.g. `model.save('my_model.keras')`.\n",
            "  saving_api.save_model(\n"
          ]
        }
      ]
    },
    {
      "cell_type": "code",
      "source": [
        "tflite_model_name = 'gas_detection_model.tflite'  # Will be given .tflite suffix\n",
        "c_model_name = 'model_data_gas'"
      ],
      "metadata": {
        "id": "S9Ln63l-d71D"
      },
      "execution_count": null,
      "outputs": []
    },
    {
      "cell_type": "code",
      "source": [
        "def hex_to_c_array(hex_data, var_name):\n",
        "\n",
        "  c_str = ''\n",
        "\n",
        "  # Create header guard\n",
        "  c_str += '#ifndef ' + var_name.upper() + '_H\\n'\n",
        "  c_str += '#define ' + var_name.upper() + '_H\\n\\n'\n",
        "\n",
        "  # Add array length at top of file\n",
        "  c_str += '\\nunsigned int ' + var_name + '_len = ' + str(len(hex_data)) + ';\\n'\n",
        "\n",
        "  # Declare C variable\n",
        "  c_str += 'unsigned char ' + var_name + '[] = {'\n",
        "  hex_array = []\n",
        "  for i, val in enumerate(hex_data) :\n",
        "\n",
        "    # Construct string from hex\n",
        "    hex_str = format(val, '#04x')\n",
        "\n",
        "    # Add formatting so each line stays within 80 characters\n",
        "    if (i + 1) < len(hex_data):\n",
        "      hex_str += ','\n",
        "    if (i + 1) % 12 == 0:\n",
        "      hex_str += '\\n '\n",
        "    hex_array.append(hex_str)\n",
        "\n",
        "  # Add closing brace\n",
        "  c_str += '\\n ' + format(' '.join(hex_array)) + '\\n};\\n\\n'\n",
        "\n",
        "  # Close out header guard\n",
        "  c_str += '#endif //' + var_name.upper() + '_H'\n",
        "\n",
        "  return c_str"
      ],
      "metadata": {
        "id": "smKn_Tv-d_zc"
      },
      "execution_count": null,
      "outputs": []
    },
    {
      "cell_type": "code",
      "source": [
        "# Write TFLite model to a C source (or header) file\n",
        "with open(c_model_name + '.h', 'w') as file:\n",
        "  file.write(hex_to_c_array(tflite_model, c_model_name))"
      ],
      "metadata": {
        "id": "B32qQeDneHvv"
      },
      "execution_count": null,
      "outputs": []
    }
  ]
}